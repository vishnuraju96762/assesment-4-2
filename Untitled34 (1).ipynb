{
 "cells": [
  {
   "cell_type": "code",
   "execution_count": null,
   "id": "a17d8061",
   "metadata": {},
   "outputs": [],
   "source": [
    "Write a Python program to triple all numbers of a given list of integers. Use Python map.\n",
    "\n",
    "\n",
    "\n",
    "sample list: [1, 2, 3, 4, 5, 6, 7]"
   ]
  },
  {
   "cell_type": "code",
   "execution_count": 1,
   "id": "597d60e1",
   "metadata": {},
   "outputs": [
    {
     "name": "stdout",
     "output_type": "stream",
     "text": [
      "Original list:  (1, 2, 3, 4, 5, 6, 7)\n",
      "\n",
      "Triple of said list numbers:\n",
      "[3, 6, 9, 12, 15, 18, 21]\n"
     ]
    }
   ],
   "source": [
    "nums = (1, 2, 3, 4, 5, 6, 7) \n",
    "print(\"Original list: \", nums)\n",
    "result = map(lambda x: x + x + x, nums) \n",
    "print(\"\\nTriple of said list numbers:\")\n",
    "print(list(result))"
   ]
  }
 ],
 "metadata": {
  "kernelspec": {
   "display_name": "Python 3 (ipykernel)",
   "language": "python",
   "name": "python3"
  },
  "language_info": {
   "codemirror_mode": {
    "name": "ipython",
    "version": 3
   },
   "file_extension": ".py",
   "mimetype": "text/x-python",
   "name": "python",
   "nbconvert_exporter": "python",
   "pygments_lexer": "ipython3",
   "version": "3.9.12"
  }
 },
 "nbformat": 4,
 "nbformat_minor": 5
}
